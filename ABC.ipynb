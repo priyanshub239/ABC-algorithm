{
  "nbformat": 4,
  "nbformat_minor": 0,
  "metadata": {
    "colab": {
      "name": "ABC.ipynb",
      "provenance": []
    },
    "kernelspec": {
      "name": "python3",
      "display_name": "Python 3"
    }
  },
  "cells": [
    {
      "cell_type": "code",
      "metadata": {
        "id": "_0bJd2tSq5ow"
      },
      "source": [
        "import numpy as np"
      ],
      "execution_count": null,
      "outputs": []
    },
    {
      "cell_type": "code",
      "metadata": {
        "id": "Yon79BcRrHPc"
      },
      "source": [
        "swarm_input=6\n",
        "emp_bee=onlooker=swarm_input//2"
      ],
      "execution_count": null,
      "outputs": []
    },
    {
      "cell_type": "code",
      "metadata": {
        "id": "jhK7fOxFrS50"
      },
      "source": [
        "def initial_sol(emp_bees, vari):\n",
        "  sol=np.zeros(shape=(emp_bees, vari))\n",
        "  for i in range(emp_bees):\n",
        "    for j in range(vari):\n",
        "      val=0+np.random.random()*(8-0)\n",
        "      sol[i][j]=val\n",
        "  return sol"
      ],
      "execution_count": null,
      "outputs": []
    },
    {
      "cell_type": "code",
      "metadata": {
        "id": "9VO2GIMorvuK"
      },
      "source": [
        "sol=initial_sol(emp_bee, 3)"
      ],
      "execution_count": null,
      "outputs": []
    },
    {
      "cell_type": "code",
      "metadata": {
        "id": "AFJydF_kry3j",
        "outputId": "4843a6d5-76aa-4d82-da96-9bdd13233ff2",
        "colab": {
          "base_uri": "https://localhost:8080/",
          "height": 69
        }
      },
      "source": [
        "sol"
      ],
      "execution_count": null,
      "outputs": [
        {
          "output_type": "execute_result",
          "data": {
            "text/plain": [
              "array([[2.00364535, 4.40264985, 0.81363473],\n",
              "       [7.04637895, 3.13208394, 6.97855228],\n",
              "       [5.74339201, 6.30668275, 3.45464051]])"
            ]
          },
          "metadata": {
            "tags": []
          },
          "execution_count": 61
        }
      ]
    },
    {
      "cell_type": "code",
      "metadata": {
        "id": "wsbANDKvr8Hf"
      },
      "source": [
        "def fitness(sol, emp_bee):\n",
        "  obj_value=np.zeros(shape=(emp_bee))\n",
        "  fit_value=np.zeros(shape=(emp_bee))\n",
        "  for i in range(emp_bee):\n",
        "    result=0\n",
        "    for j in range(3):\n",
        "      result=result+(sol[i][j])**2\n",
        "    if result>=0:\n",
        "      f=1/(1+result)\n",
        "    else:\n",
        "      f=1+np.abs(result)\n",
        "    obj_value[i]=result\n",
        "    fit_value[i]=f\n",
        "  return obj_value, fit_value"
      ],
      "execution_count": null,
      "outputs": []
    },
    {
      "cell_type": "code",
      "metadata": {
        "id": "lt2Ox0NduFT9"
      },
      "source": [
        "obj_value, fit_value=fitness(sol, emp_bee)"
      ],
      "execution_count": null,
      "outputs": []
    },
    {
      "cell_type": "code",
      "metadata": {
        "id": "RwXeYVX-uKzp",
        "outputId": "ec3ae143-8b4a-4f9b-e0cb-69038d655de5",
        "colab": {
          "base_uri": "https://localhost:8080/",
          "height": 34
        }
      },
      "source": [
        "obj_value"
      ],
      "execution_count": null,
      "outputs": [
        {
          "output_type": "execute_result",
          "data": {
            "text/plain": [
              "array([ 24.05992183, 108.16159799,  84.69534012])"
            ]
          },
          "metadata": {
            "tags": []
          },
          "execution_count": 64
        }
      ]
    },
    {
      "cell_type": "code",
      "metadata": {
        "id": "ngCHaxJOugGJ",
        "outputId": "2f8f89f5-2c90-4333-970b-07722d6d6eb9",
        "colab": {
          "base_uri": "https://localhost:8080/",
          "height": 34
        }
      },
      "source": [
        "fit_value"
      ],
      "execution_count": null,
      "outputs": [
        {
          "output_type": "execute_result",
          "data": {
            "text/plain": [
              "array([0.03990435, 0.00916073, 0.01166925])"
            ]
          },
          "metadata": {
            "tags": []
          },
          "execution_count": 65
        }
      ]
    },
    {
      "cell_type": "code",
      "metadata": {
        "id": "nvAyQJ9_x7N6"
      },
      "source": [
        "trial=np.array([0, 0, 0])"
      ],
      "execution_count": null,
      "outputs": []
    },
    {
      "cell_type": "code",
      "metadata": {
        "id": "yQzN_vwVya7n"
      },
      "source": [
        "def emp_phase(sol, emp_bee, vari, fit_value, obj_val, trial):\n",
        "  for i in range(emp_bee):\n",
        "    print(\"Bee: \", i)\n",
        "    r1=np.random.randint(0, vari-1)\n",
        "    print(\"Variable Selected: \",r1)\n",
        "    xnew=sol[i]\n",
        "    print(\"Old Values:\", xnew)\n",
        "    r2=np.random.randint(0, emp_bee-1)\n",
        "    \n",
        "    if r2==i and r2==emp_bee-1:\n",
        "      r2=0\n",
        "    elif r2==i:\n",
        "      r2+=1\n",
        "    print(\"Partner sol: \", r2)\n",
        "    new_val=sol[i][r1]+np.random.uniform(-1,1)*(sol[i][r1]-sol[r2][r1])\n",
        "    if new_val < 0:\n",
        "      new_val=0\n",
        "    elif new_val>8:\n",
        "      new_val=8\n",
        "    print(\"Value to modify: \", new_val)\n",
        "    xnew[r1]=new_val\n",
        "    print(\"new values: \", xnew)\n",
        "    new_f=xnew[0]**2+xnew[1]**2+xnew[2]**2\n",
        "    new_fit=1/(1+new_f)\n",
        "    print(\"new fitness: \", new_fit)\n",
        "    print(\"old fitness: \",fit_value[i])\n",
        "    if new_fit>fit_value[i]:\n",
        "      print(xnew)\n",
        "      sol[i]=xnew\n",
        "      fit_value[i]=new_fit\n",
        "      obj_value[i]=new_f\n",
        "      trial[i]=0\n",
        "    else:\n",
        "      trial[i]=trial[i]+1\n",
        "  return sol, trial, fit_value, obj_value\n"
      ],
      "execution_count": null,
      "outputs": []
    },
    {
      "cell_type": "code",
      "metadata": {
        "id": "R-u-i1IkDI6R",
        "outputId": "61e2ceaa-24ad-456c-904b-52b31ec0312e",
        "colab": {
          "base_uri": "https://localhost:8080/",
          "height": 466
        }
      },
      "source": [
        "sol, trial, fit_value, obj_value=emp_phase(sol, emp_bee, 3, fit_value, obj_value, trial )"
      ],
      "execution_count": null,
      "outputs": [
        {
          "output_type": "stream",
          "text": [
            "Bee:  0\n",
            "Variable Selected:  1\n",
            "Old Values: [2.00364535 4.40264985 0.81363473]\n",
            "Partner sol:  1\n",
            "Value to modify:  4.7347214181451465\n",
            "new values:  [2.00364535 4.73472142 0.81363473]\n",
            "new fitness:  0.03559455698472503\n",
            "old fitness:  0.03990435431461439\n",
            "Bee:  1\n",
            "Variable Selected:  1\n",
            "Old Values: [7.04637895 3.13208394 6.97855228]\n",
            "Partner sol:  0\n",
            "Value to modify:  2.0382316132251743\n",
            "new values:  [7.04637895 2.03823161 6.97855228]\n",
            "new fitness:  0.009661272286083801\n",
            "old fitness:  0.009160730682148396\n",
            "[7.04637895 2.03823161 6.97855228]\n",
            "Bee:  2\n",
            "Variable Selected:  0\n",
            "Old Values: [5.74339201 6.30668275 3.45464051]\n",
            "Partner sol:  1\n",
            "Value to modify:  5.213492721532091\n",
            "new values:  [5.21349272 6.30668275 3.45464051]\n",
            "new fitness:  0.012517321680341779\n",
            "old fitness:  0.011669245942930135\n",
            "[5.21349272 6.30668275 3.45464051]\n"
          ],
          "name": "stdout"
        }
      ]
    },
    {
      "cell_type": "code",
      "metadata": {
        "id": "a-x_ZK7dDNne",
        "outputId": "a102a854-958c-4729-a918-2da2093d7a35",
        "colab": {
          "base_uri": "https://localhost:8080/",
          "height": 69
        }
      },
      "source": [
        "sol"
      ],
      "execution_count": null,
      "outputs": [
        {
          "output_type": "execute_result",
          "data": {
            "text/plain": [
              "array([[2.00364535, 4.73472142, 0.81363473],\n",
              "       [7.04637895, 2.03823161, 6.97855228],\n",
              "       [5.21349272, 6.30668275, 3.45464051]])"
            ]
          },
          "metadata": {
            "tags": []
          },
          "execution_count": 69
        }
      ]
    },
    {
      "cell_type": "code",
      "metadata": {
        "id": "82HRmMjCGDFl",
        "outputId": "2fa1dce4-0d33-438d-e8bb-de8ed01d4e49",
        "colab": {
          "base_uri": "https://localhost:8080/",
          "height": 34
        }
      },
      "source": [
        "trial"
      ],
      "execution_count": null,
      "outputs": [
        {
          "output_type": "execute_result",
          "data": {
            "text/plain": [
              "array([1, 0, 0])"
            ]
          },
          "metadata": {
            "tags": []
          },
          "execution_count": 70
        }
      ]
    },
    {
      "cell_type": "code",
      "metadata": {
        "id": "U5aoyu2PGEj7"
      },
      "source": [
        "def onlooker_phase(sol, emp_bee, vari, fit_value, obj_value, trial):\n",
        "  probability=np.zeros(shape=(emp_bee))\n",
        "  max_fit=max(fit_value)\n",
        "  for i in range(emp_bee):\n",
        "    probability[i]=0.9*(fit_value[i]/max_fit)+0.1\n",
        "  print(\"Probability Values: \", probability)\n",
        "  for i in range(emp_bee):\n",
        "    print(\"Onlooker Bee: \",i)\n",
        "    p_sol=i\n",
        "    r=np.random.random()\n",
        "    print(\"random_number: \", r)\n",
        "    while r>probability[p_sol]:\n",
        "      p_sol=i+1\n",
        "      if p_sol==emp_bee:\n",
        "        p_sol=0\n",
        "      r=np.random.random()\n",
        "      print(\"random_number: \",r)\n",
        "    print(\"Food Source: \", p_sol)\n",
        "    r1=np.random.randint(0, vari-1)\n",
        "    print(\"Variable Selected: \",r1)\n",
        "    xnew=sol[p_sol]\n",
        "    print(\"Old Values:\", xnew)\n",
        "    r2=np.random.randint(0, emp_bee-1)\n",
        "    if p_sol==r2 and p_sol==emp_bee-1:\n",
        "      r2=0\n",
        "    elif r2==p_sol:\n",
        "      r2+=1\n",
        "    print(\"Partner sol: \", r2)\n",
        "    new_val=sol[p_sol][r1]+np.random.uniform(-1,1)*(sol[p_sol][r1]-sol[r2][r1])\n",
        "    if new_val < 0:\n",
        "      new_val=0\n",
        "    elif new_val>8:\n",
        "      new_val=8\n",
        "    print(\"Value to modify: \", new_val)\n",
        "    xnew[r1]=new_val\n",
        "    print(\"new values: \", xnew)\n",
        "    new_f=(xnew[0]**2)+(xnew[1]**2)+(xnew[2]**2)\n",
        "    new_fit=1/(1+new_f)\n",
        "    print(\"new fitness: \", new_fit)\n",
        "    print(\"old fitness: \",fit_value[p_sol])\n",
        "    if new_fit>fit_value[p_sol]:\n",
        "      print(xnew)\n",
        "      sol[p_sol]=xnew\n",
        "      fit_value[p_sol]=new_fit\n",
        "      obj_value[p_sol]=new_fit\n",
        "      trial[p_sol]=0\n",
        "    else:\n",
        "      trial[p_sol]=trial[p_sol]+1\n",
        "  return sol, trial, fit_value, obj_value\n"
      ],
      "execution_count": null,
      "outputs": []
    },
    {
      "cell_type": "code",
      "metadata": {
        "id": "YqvwuYn1tUtT",
        "outputId": "e4bb8bd3-051c-4a11-9577-34778f98f3e7",
        "colab": {
          "base_uri": "https://localhost:8080/",
          "height": 639
        }
      },
      "source": [
        "sol, trial, fit_value, obj_value= onlooker_phase(sol,emp_bee, 3, fit_value, obj_value, trial)"
      ],
      "execution_count": null,
      "outputs": [
        {
          "output_type": "stream",
          "text": [
            "Probability Values:  [1.         0.31789966 0.38231479]\n",
            "Onlooker Bee:  0\n",
            "random_number:  0.9291546452867744\n",
            "Food Source:  0\n",
            "Variable Selected:  1\n",
            "Old Values: [2.00364535 4.73472142 0.81363473]\n",
            "Partner sol:  1\n",
            "Value to modify:  2.263730067494433\n",
            "new values:  [2.00364535 2.26373007 0.81363473]\n",
            "new fitness:  0.09258342019257942\n",
            "old fitness:  0.03990435431461439\n",
            "[2.00364535 2.26373007 0.81363473]\n",
            "Onlooker Bee:  1\n",
            "random_number:  0.7930018281944705\n",
            "random_number:  0.11887070759861396\n",
            "Food Source:  2\n",
            "Variable Selected:  0\n",
            "Old Values: [5.21349272 6.30668275 3.45464051]\n",
            "Partner sol:  1\n",
            "Value to modify:  4.7193676776226905\n",
            "new values:  [4.71936768 6.30668275 3.45464051]\n",
            "new fitness:  0.013336672912135137\n",
            "old fitness:  0.012517321680341779\n",
            "[4.71936768 6.30668275 3.45464051]\n",
            "Onlooker Bee:  2\n",
            "random_number:  0.9899456541739051\n",
            "random_number:  0.33915621988746614\n",
            "Food Source:  0\n",
            "Variable Selected:  1\n",
            "Old Values: [2.00364535 2.26373007 0.81363473]\n",
            "Partner sol:  1\n",
            "Value to modify:  2.197024772399951\n",
            "new values:  [2.00364535 2.19702477 0.81363473]\n",
            "new fitness:  0.09520623282392537\n",
            "old fitness:  0.09258342019257942\n",
            "[2.00364535 2.19702477 0.81363473]\n"
          ],
          "name": "stdout"
        }
      ]
    },
    {
      "cell_type": "code",
      "metadata": {
        "id": "b_P4TbN5tvhJ",
        "outputId": "81d82d70-2163-484e-8374-1e529462a5b3",
        "colab": {
          "base_uri": "https://localhost:8080/",
          "height": 34
        }
      },
      "source": [
        "trial"
      ],
      "execution_count": null,
      "outputs": [
        {
          "output_type": "execute_result",
          "data": {
            "text/plain": [
              "array([0, 0, 0])"
            ]
          },
          "metadata": {
            "tags": []
          },
          "execution_count": 73
        }
      ]
    },
    {
      "cell_type": "code",
      "metadata": {
        "id": "1xClBM5_vh50"
      },
      "source": [
        "limit=1"
      ],
      "execution_count": null,
      "outputs": []
    },
    {
      "cell_type": "code",
      "metadata": {
        "id": "LywmQwGSxyVh"
      },
      "source": [
        "def scout_bee(vari, obj_value, fit_value):\n",
        "  new_sol=np.zeros(shape=(vari))\n",
        "  for i in range(vari):\n",
        "    val=0+np.random.random()*(8-0)\n",
        "    new_sol[i]=val\n",
        "  obj_value[i]=new_sol[0]**2+new_sol[1]**2+new_sol[2]**2\n",
        "  if obj_value[i]>=0:\n",
        "    fit_value[i]=1/(1+obj_value[i])\n",
        "  else:\n",
        "    fit_value[i]=1+abs(obj_value[i])\n",
        "  \n",
        "  return new_sol, obj_value, fit_value"
      ],
      "execution_count": null,
      "outputs": []
    },
    {
      "cell_type": "code",
      "metadata": {
        "id": "1xFBB8iBvqDZ"
      },
      "source": [
        "for i in range(emp_bee):\n",
        "  if trial[i]>limit:\n",
        "    print(i, \"food source exhausted\")\n",
        "    print(\"Old Value\", sol[i])\n",
        "    new_sol, obj_value, fit_value=scout_bee(3, obj_value, fit_value)\n",
        "    print(\"New Value\", new_sol)\n",
        "    sol[i]=new_sol\n",
        "    trial[i]=0\n",
        "  "
      ],
      "execution_count": null,
      "outputs": []
    },
    {
      "cell_type": "code",
      "metadata": {
        "id": "lEFBiLyVzjRb",
        "outputId": "07142921-8d02-4d77-9348-6860cfb96011",
        "colab": {
          "base_uri": "https://localhost:8080/",
          "height": 34
        }
      },
      "source": [
        "trial"
      ],
      "execution_count": null,
      "outputs": [
        {
          "output_type": "execute_result",
          "data": {
            "text/plain": [
              "array([0, 0, 0])"
            ]
          },
          "metadata": {
            "tags": []
          },
          "execution_count": 53
        }
      ]
    },
    {
      "cell_type": "code",
      "metadata": {
        "id": "1vS2nxhhz3sM",
        "outputId": "8e5cd50e-4443-4167-c496-92881bf1f07c",
        "colab": {
          "base_uri": "https://localhost:8080/",
          "height": 1000
        }
      },
      "source": [
        "swarm_input=8\n",
        "emp_bee=onlooker=swarm_input//2\n",
        "sol=initial_sol(emp_bee, 3)\n",
        "print(\"Initial Solutions: \", sol)\n",
        "limit=2\n",
        "obj_value, fit_value=fitness(sol, emp_bee)\n",
        "print(\"Employee bee phase: \")\n",
        "trial=np.zeros(shape=(emp_bee))\n",
        "sol, trial, fit_value, obj_value=emp_phase(sol, emp_bee, 3, fit_value, obj_value, trial )\n",
        "print(\"Solutions by Employee bee: \", sol)\n",
        "for i in range(5):\n",
        "  print(\"Onlooker bee phase: \")\n",
        "  sol, trial, fit_value, obj_value= onlooker_phase(sol,emp_bee, 3, fit_value, obj_value, trial)\n",
        "  print(\"Solutions by onlooker bee: \", sol)\n",
        "  print(\"Fitness Values: \", fit_value)\n",
        "  for i in range(emp_bee):\n",
        "    if trial[i]>limit:\n",
        "      \n",
        "      print(i, \"food source exhausted, Bee enters into scout phase.\")\n",
        "      print(\"Old Value\", sol[i])\n",
        "      \n",
        "      new_sol, obj_value, fit_value=scout_bee(3, obj_value, fit_value)\n",
        "      print(\"New Values from scout bee: \", new_sol)\n",
        "      sol[i]=new_sol\n",
        "      trial[i]=0\n",
        "\n",
        "print(\"Best Fitness: \",max(fit_value))\n",
        "print(\"Best Objective: \", min(obj_value))\n"
      ],
      "execution_count": null,
      "outputs": [
        {
          "output_type": "stream",
          "text": [
            "Initial Solutions:  [[1.55292381 2.71078968 0.07396679]\n",
            " [6.58190196 2.23118521 7.36631275]\n",
            " [4.49920756 2.47202511 0.88436441]\n",
            " [3.8778487  0.3944846  5.41077315]]\n",
            "Employee bee phase: \n",
            "Bee:  0\n",
            "Variable Selected:  0\n",
            "Old Values: [1.55292381 2.71078968 0.07396679]\n",
            "Partner sol:  1\n",
            "Value to modify:  0\n",
            "new values:  [0.         2.71078968 0.07396679]\n",
            "new fitness:  0.11970526050330675\n",
            "old fitness:  0.0928899771373764\n",
            "[0.         2.71078968 0.07396679]\n",
            "Bee:  1\n",
            "Variable Selected:  1\n",
            "Old Values: [6.58190196 2.23118521 7.36631275]\n",
            "Partner sol:  2\n",
            "Value to modify:  2.3855661428624804\n",
            "new values:  [6.58190196 2.38556614 7.36631275]\n",
            "new fitness:  0.009590033477170743\n",
            "old fitness:  0.00965603425592932\n",
            "Bee:  2\n",
            "Variable Selected:  0\n",
            "Old Values: [4.49920756 2.47202511 0.88436441]\n",
            "Partner sol:  0\n",
            "Value to modify:  6.291384225426247\n",
            "new values:  [6.29138423 2.47202511 0.88436441]\n",
            "new fitness:  0.021063928937055804\n",
            "old fitness:  0.03554180995527769\n",
            "Bee:  3\n",
            "Variable Selected:  0\n",
            "Old Values: [3.8778487  0.3944846  5.41077315]\n",
            "Partner sol:  2\n",
            "Value to modify:  3.7429897812640163\n",
            "new values:  [3.74298978 0.3944846  5.41077315]\n",
            "new fitness:  0.022501208894513326\n",
            "old fitness:  0.021992621841201425\n",
            "[3.74298978 0.3944846  5.41077315]\n",
            "Solutions by Employee bee:  [[0.         2.71078968 0.07396679]\n",
            " [6.58190196 2.38556614 7.36631275]\n",
            " [6.29138423 2.47202511 0.88436441]\n",
            " [3.74298978 0.3944846  5.41077315]]\n",
            "Onlooker bee phase: \n",
            "Probability Values:  [1.         0.17259857 0.36721991 0.26917459]\n",
            "Onlooker Bee:  0\n",
            "random_number:  0.6839493782608989\n",
            "Food Source:  0\n",
            "Variable Selected:  1\n",
            "Old Values: [0.         2.71078968 0.07396679]\n",
            "Partner sol:  1\n",
            "Value to modify:  2.555579890366637\n",
            "new values:  [0.         2.55557989 0.07396679]\n",
            "new fitness:  0.13268829726052667\n",
            "old fitness:  0.11970526050330675\n",
            "[0.         2.55557989 0.07396679]\n",
            "Onlooker Bee:  1\n",
            "random_number:  0.8660923044199367\n",
            "random_number:  0.9322254589040465\n",
            "random_number:  0.8045956463737451\n",
            "random_number:  0.5010636140745977\n",
            "random_number:  0.6123552390003654\n",
            "random_number:  0.04090432007832645\n",
            "Food Source:  2\n",
            "Variable Selected:  1\n",
            "Old Values: [6.29138423 2.47202511 0.88436441]\n",
            "Partner sol:  0\n",
            "Value to modify:  2.5356869913649205\n",
            "new values:  [6.29138423 2.53568699 0.88436441]\n",
            "new fitness:  0.020923424191108493\n",
            "old fitness:  0.03554180995527769\n",
            "Onlooker Bee:  2\n",
            "random_number:  0.6031194767444671\n",
            "random_number:  0.07498058246842032\n",
            "Food Source:  3\n",
            "Variable Selected:  1\n",
            "Old Values: [3.74298978 0.3944846  5.41077315]\n",
            "Partner sol:  1\n",
            "Value to modify:  2.2463151557668386\n",
            "new values:  [3.74298978 2.24631516 5.41077315]\n",
            "new fitness:  0.020270665968754098\n",
            "old fitness:  0.022501208894513326\n",
            "Onlooker Bee:  3\n",
            "random_number:  0.7983463376985703\n",
            "random_number:  0.6181554838462149\n",
            "Food Source:  0\n",
            "Variable Selected:  0\n",
            "Old Values: [0.         2.55557989 0.07396679]\n",
            "Partner sol:  1\n",
            "Value to modify:  3.3072389624975074\n",
            "new values:  [3.30723896 2.55557989 0.07396679]\n",
            "new fitness:  0.0541292814148016\n",
            "old fitness:  0.13268829726052667\n",
            "Solutions by onlooker bee:  [[3.30723896 2.55557989 0.07396679]\n",
            " [6.58190196 2.38556614 7.36631275]\n",
            " [6.29138423 2.53568699 0.88436441]\n",
            " [3.74298978 2.24631516 5.41077315]]\n",
            "Fitness Values:  [0.1326883  0.00965603 0.03554181 0.02250121]\n",
            "Onlooker bee phase: \n",
            "Probability Values:  [1.         0.16549508 0.34107348 0.25262151]\n",
            "Onlooker Bee:  0\n",
            "random_number:  0.753343536263453\n",
            "Food Source:  0\n",
            "Variable Selected:  1\n",
            "Old Values: [3.30723896 2.55557989 0.07396679]\n",
            "Partner sol:  2\n",
            "Value to modify:  2.5596843723245324\n",
            "new values:  [3.30723896 2.55968437 0.07396679]\n",
            "new fitness:  0.05406783484183594\n",
            "old fitness:  0.13268829726052667\n",
            "Onlooker Bee:  1\n",
            "random_number:  0.04063178200748718\n",
            "Food Source:  1\n",
            "Variable Selected:  1\n",
            "Old Values: [6.58190196 2.38556614 7.36631275]\n",
            "Partner sol:  2\n",
            "Value to modify:  2.469544277643779\n",
            "new values:  [6.58190196 2.46954428 7.36631275]\n",
            "new fitness:  0.009552681743159227\n",
            "old fitness:  0.00965603425592932\n",
            "Onlooker Bee:  2\n",
            "random_number:  0.789763458533434\n",
            "random_number:  0.9863884917922621\n",
            "random_number:  0.9537791581737372\n",
            "random_number:  0.39320637058823826\n",
            "random_number:  0.6288837174115659\n",
            "random_number:  0.6295280400372508\n",
            "random_number:  0.8754704568161807\n",
            "random_number:  0.16359398973519834\n",
            "Food Source:  3\n",
            "Variable Selected:  0\n",
            "Old Values: [3.74298978 2.24631516 5.41077315]\n",
            "Partner sol:  0\n",
            "Value to modify:  3.8282846756342073\n",
            "new values:  [3.82828468 2.24631516 5.41077315]\n",
            "new fitness:  0.02000873927107308\n",
            "old fitness:  0.022501208894513326\n",
            "Onlooker Bee:  3\n",
            "random_number:  0.3595313806825371\n",
            "random_number:  0.5301982531644136\n",
            "Food Source:  0\n",
            "Variable Selected:  1\n",
            "Old Values: [3.30723896 2.55968437 0.07396679]\n",
            "Partner sol:  2\n",
            "Value to modify:  2.54757515911862\n",
            "new values:  [3.30723896 2.54757516 0.07396679]\n",
            "new fitness:  0.05424923449243883\n",
            "old fitness:  0.13268829726052667\n",
            "Solutions by onlooker bee:  [[3.30723896 2.54757516 0.07396679]\n",
            " [6.58190196 2.46954428 7.36631275]\n",
            " [6.29138423 2.53568699 0.88436441]\n",
            " [3.82828468 2.24631516 5.41077315]]\n",
            "Fitness Values:  [0.1326883  0.00965603 0.03554181 0.02250121]\n",
            "0 food source exhausted, Bee enters into scout phase.\n",
            "Old Value [3.30723896 2.54757516 0.07396679]\n",
            "New Values from scout bee:  [4.31342692 7.917532   4.19040007]\n",
            "Onlooker bee phase: \n",
            "Probability Values:  [1.         0.16549508 0.16792839 0.25262151]\n",
            "Onlooker Bee:  0\n",
            "random_number:  0.1355320941227186\n",
            "Food Source:  0\n",
            "Variable Selected:  1\n",
            "Old Values: [4.31342692 7.917532   4.19040007]\n",
            "Partner sol:  2\n",
            "Value to modify:  8\n",
            "new values:  [4.31342692 8.         4.19040007]\n",
            "new fitness:  0.0098848313821201\n",
            "old fitness:  0.13268829726052667\n",
            "Onlooker Bee:  1\n",
            "random_number:  0.15812595925378092\n",
            "Food Source:  1\n",
            "Variable Selected:  1\n",
            "Old Values: [6.58190196 2.46954428 7.36631275]\n",
            "Partner sol:  2\n",
            "Value to modify:  2.412705466976921\n",
            "new values:  [6.58190196 2.41270547 7.36631275]\n",
            "new fitness:  0.009578072075359531\n",
            "old fitness:  0.00965603425592932\n",
            "Onlooker Bee:  2\n",
            "random_number:  0.42822641621842883\n",
            "random_number:  0.7190230754095965\n",
            "random_number:  0.7114895516045064\n",
            "random_number:  0.8363492110251316\n",
            "random_number:  0.11214290198161192\n",
            "Food Source:  3\n",
            "Variable Selected:  1\n",
            "Old Values: [3.82828468 2.24631516 5.41077315]\n",
            "Partner sol:  2\n",
            "Value to modify:  2.4164322707436363\n",
            "new values:  [3.82828468 2.41643227 5.41077315]\n",
            "new fitness:  0.019696138025575297\n",
            "old fitness:  0.022501208894513326\n",
            "Onlooker Bee:  3\n",
            "random_number:  0.8868536350822744\n",
            "random_number:  0.5202399143572612\n",
            "Food Source:  0\n",
            "Variable Selected:  1\n",
            "Old Values: [4.31342692 8.         4.19040007]\n",
            "Partner sol:  1\n",
            "Value to modify:  7.273915860823003\n",
            "new values:  [4.31342692 7.27391586 4.19040007]\n",
            "new fitness:  0.01110186492575312\n",
            "old fitness:  0.13268829726052667\n",
            "Solutions by onlooker bee:  [[4.31342692 7.27391586 4.19040007]\n",
            " [6.58190196 2.41270547 7.36631275]\n",
            " [6.29138423 2.53568699 0.88436441]\n",
            " [3.82828468 2.41643227 5.41077315]]\n",
            "Fitness Values:  [0.1326883  0.00965603 0.01001478 0.02250121]\n",
            "1 food source exhausted, Bee enters into scout phase.\n",
            "Old Value [6.58190196 2.41270547 7.36631275]\n",
            "New Values from scout bee:  [2.14661511 0.62010964 0.63948725]\n",
            "3 food source exhausted, Bee enters into scout phase.\n",
            "Old Value [3.82828468 2.41643227 5.41077315]\n",
            "New Values from scout bee:  [4.15542853 6.30181686 7.27156956]\n",
            "Onlooker bee phase: \n",
            "Probability Values:  [1.         0.16549508 0.16118569 0.25262151]\n",
            "Onlooker Bee:  0\n",
            "random_number:  0.23041361273551197\n",
            "Food Source:  0\n",
            "Variable Selected:  1\n",
            "Old Values: [4.31342692 7.27391586 4.19040007]\n",
            "Partner sol:  1\n",
            "Value to modify:  8\n",
            "new values:  [4.31342692 8.         4.19040007]\n",
            "new fitness:  0.0098848313821201\n",
            "old fitness:  0.13268829726052667\n",
            "Onlooker Bee:  1\n",
            "random_number:  0.4751081443987657\n",
            "random_number:  0.9265112328940205\n",
            "random_number:  0.45453504650508525\n",
            "random_number:  0.38537555038858806\n",
            "random_number:  0.5757413455628723\n",
            "random_number:  0.1942044734624413\n",
            "random_number:  0.9299913807458109\n",
            "random_number:  0.05914642889843924\n",
            "Food Source:  2\n",
            "Variable Selected:  0\n",
            "Old Values: [6.29138423 2.53568699 0.88436441]\n",
            "Partner sol:  3\n",
            "Value to modify:  8\n",
            "new values:  [8.         2.53568699 0.88436441]\n",
            "new fitness:  0.01384815052820887\n",
            "old fitness:  0.009020694799386962\n",
            "[8.         2.53568699 0.88436441]\n",
            "Onlooker Bee:  2\n",
            "random_number:  0.0548837849709235\n",
            "Food Source:  2\n",
            "Variable Selected:  1\n",
            "Old Values: [8.         2.53568699 0.88436441]\n",
            "Partner sol:  3\n",
            "Value to modify:  4.813282164789533\n",
            "new values:  [8.         4.81328216 0.88436441]\n",
            "new fitness:  0.011242298035085455\n",
            "old fitness:  0.01384815052820887\n",
            "Onlooker Bee:  3\n",
            "random_number:  0.33983881682159933\n",
            "random_number:  0.9505071591685142\n",
            "Food Source:  0\n",
            "Variable Selected:  1\n",
            "Old Values: [4.31342692 8.         4.19040007]\n",
            "Partner sol:  2\n",
            "Value to modify:  5.571150951641458\n",
            "new values:  [4.31342692 5.57115095 4.19040007]\n",
            "new fitness:  0.014662148731228751\n",
            "old fitness:  0.13268829726052667\n",
            "Solutions by onlooker bee:  [[4.31342692 5.57115095 4.19040007]\n",
            " [2.14661511 0.62010964 0.63948725]\n",
            " [8.         4.81328216 0.88436441]\n",
            " [4.15542853 6.30181686 7.27156956]]\n",
            "Fitness Values:  [0.1326883  0.00965603 0.01384815 0.02250121]\n",
            "0 food source exhausted, Bee enters into scout phase.\n",
            "Old Value [4.31342692 5.57115095 4.19040007]\n",
            "New Values from scout bee:  [4.10849397 6.85154151 5.81742956]\n",
            "Onlooker bee phase: \n",
            "Probability Values:  [1.         0.16549508 0.16874532 0.25262151]\n",
            "Onlooker Bee:  0\n",
            "random_number:  0.36285477217289097\n",
            "Food Source:  0\n",
            "Variable Selected:  0\n",
            "Old Values: [4.10849397 6.85154151 5.81742956]\n",
            "Partner sol:  2\n",
            "Value to modify:  7.507770341808514\n",
            "new values:  [7.50777034 6.85154151 5.81742956]\n",
            "new fitness:  0.007238366181157176\n",
            "old fitness:  0.13268829726052667\n",
            "Onlooker Bee:  1\n",
            "random_number:  0.49448321585200017\n",
            "random_number:  0.12698956237283254\n",
            "Food Source:  2\n",
            "Variable Selected:  0\n",
            "Old Values: [8.         4.81328216 0.88436441]\n",
            "Partner sol:  0\n",
            "Value to modify:  7.657224685559263\n",
            "new values:  [7.65722469 4.81328216 0.88436441]\n",
            "new fitness:  0.011964173212032565\n",
            "old fitness:  0.010135221033790552\n",
            "[7.65722469 4.81328216 0.88436441]\n",
            "Onlooker Bee:  2\n",
            "random_number:  0.026215466360991146\n",
            "Food Source:  2\n",
            "Variable Selected:  1\n",
            "Old Values: [7.65722469 4.81328216 0.88436441]\n",
            "Partner sol:  0\n",
            "Value to modify:  6.328923676831118\n",
            "new values:  [7.65722469 6.32892368 0.88436441]\n",
            "new fitness:  0.009953173780491703\n",
            "old fitness:  0.011964173212032565\n",
            "Onlooker Bee:  3\n",
            "random_number:  0.709804980782203\n",
            "random_number:  0.17903557551633698\n",
            "Food Source:  0\n",
            "Variable Selected:  0\n",
            "Old Values: [7.50777034 6.85154151 5.81742956]\n",
            "Partner sol:  1\n",
            "Value to modify:  3.338772406961965\n",
            "new values:  [3.33877241 6.85154151 5.81742956]\n",
            "new fitness:  0.010760381386928307\n",
            "old fitness:  0.13268829726052667\n",
            "Solutions by onlooker bee:  [[3.33877241 6.85154151 5.81742956]\n",
            " [2.14661511 0.62010964 0.63948725]\n",
            " [7.65722469 6.32892368 0.88436441]\n",
            " [4.15542853 6.30181686 7.27156956]]\n",
            "Fitness Values:  [0.1326883  0.00965603 0.01196417 0.02250121]\n",
            "Best Fitness:  0.13268829726052667\n",
            "Best Objective:  0.011964173212032565\n"
          ],
          "name": "stdout"
        }
      ]
    },
    {
      "cell_type": "code",
      "metadata": {
        "id": "fSrRZj102l1g"
      },
      "source": [
        ""
      ],
      "execution_count": null,
      "outputs": []
    }
  ]
}